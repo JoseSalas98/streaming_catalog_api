{
 "cells": [
  {
   "attachments": {},
   "cell_type": "markdown",
   "metadata": {},
   "source": [
    "<div id='id0' > </div>\n",
    "\n",
    "<body>\n",
    "    <h1> <b> Análisis Exploratorio de Datos </b> </h1> \n",
    "    <h2> <b> Índice </b> </h2>\n",
    "</body>\n",
    "\n",
    "1.  [Generalidades](#id1)\n",
    "2.  [Características Preliminares de las Fuentes de Datos](#id2)\n",
    "3.  [Imoportación de la Librerías Requeridas](#id3)\n",
    "4.  [Extración de los Datos](#id4)\n",
    "5.  [Carga de los Datos en Dataframes](#id5)\n",
    "6.  [Fuente de Datos: Títulos de Amazon Prime](#id6)\n",
    "7.  [Fuente de Datos: Museos](#id7)\n",
    "8.  [Fuente de Datos: Salas de Cines](#id8)\n",
    "9.  [Unión de los Dataframes](#id9)\n",
    "10. [Obtención de los Insights](#id10)\n",
    "\n",
    "---\n"
   ]
  },
  {
   "attachments": {},
   "cell_type": "markdown",
   "metadata": {},
   "source": [
    "<div id='id1' > </div>\n",
    "\n",
    "<body>\n",
    "     <h1> <b> Generalidades </b> <br> </h1>\n",
    "     <p> Los datos fueron provistos en archivos de diferentes extensiones, como csv o json. La información ha de ser procesada y normalizada para cada dataset, entre otras tareas, para obtener información relevante, tal como: <p>\n",
    "     <ul>\n",
    "          <li> <p> \n",
    "          Máxima duración según tipo de film (película/serie), por plataforma y por año: El request debe ser: get_max_duration(año, plataforma, [min o season])</b>. </li>\n",
    "          <li> <p> \n",
    "          Cantidad de películas y series (separado) por plataforma El request debe ser: get_count_plataform(plataforma)</b>. </li>\n",
    "          <li> <p> \n",
    "          Cantidad de veces que se repite un género y plataforma con mayor frecuencia del mismo. El request debe ser: get_listedin('genero')</b>. </li>\n",
    "          <li> <p> \n",
    "          Actor que más se repite según plataforma y año. El request debe ser: get_actor(plataforma, año)</b>. </li>\n",
    "     </ul> \n",
    "</body>\n",
    "\n",
    "\n"
   ]
  },
  {
   "attachments": {},
   "cell_type": "markdown",
   "metadata": {},
   "source": [
    "[ Índice </p> ](#id0)\n",
    "\n",
    "---"
   ]
  },
  {
   "attachments": {},
   "cell_type": "markdown",
   "metadata": {},
   "source": [
    "<div id='id2' > </div>\n",
    "\n",
    "<head>\n",
    "     <meta http-equiv=\"Content-Type\"content=\"text/html\"charset=\"utf-8\">\n",
    "     <link href=\"./css_estilos/estilo_01.css\"rel=\"stylesheet\"type=\"text/css\"> \n",
    "</head>\n",
    "<body>\n",
    "     <h1> <b> Características Preliminares de las Fuentes de Datos </b> <br> </h1>\n",
    "     <p>\n",
    "     Los datasets disponibles corresponden ha los titulos disponibles en cuatro proveedores de streaming. <br>\n",
    "     <br>\n",
    "     Los recursos recuperados de las fuentes fueron:\n",
    "          <ul>\n",
    "               <li> <p> \n",
    "               Títulos de Amazon Prime: amazon_prime_titles.csv</b>. </li>\n",
    "               <li> <p> \n",
    "               Títulos de Disney Plus: disney_plus_titles.csv</b>. </li>\n",
    "               <li> <p> \n",
    "               Títulos de Hulu: hulu_titles.csv</b>. </li>\n",
    "               <li> <p> \n",
    "               Títulos de Netflix: netflix_titles.json</b>. </li>\n",
    "               </ul> \n",
    "     </p>\n",
    "</body>"
   ]
  },
  {
   "attachments": {},
   "cell_type": "markdown",
   "metadata": {},
   "source": [
    "[ Índice </p> ](#id0)\n",
    "\n",
    "---"
   ]
  },
  {
   "cell_type": "markdown",
   "metadata": {},
   "source": [
    "<div id='id3' > </div>\n",
    "\n",
    "<head>\n",
    "     <meta http-equiv=\"Content-Type\"content=\"text/html\"charset=\"utf-8\">\n",
    "     <link href=\"./css_estilos/estilo_01.css\"rel=\"stylesheet\"type=\"text/css\"> \n",
    "</head>\n",
    "<body>\n",
    "     <h1> <b> Imoportación de la Librerías Requeridas </b> <br> </h1>\n",
    "</body>"
   ]
  },
  {
   "cell_type": "code",
   "execution_count": 1,
   "metadata": {},
   "outputs": [],
   "source": [
    "#Importar las librerías\n",
    "#Python \n",
    "import os\n",
    "from pathlib import Path\n",
    "from datetime import datetime\n",
    "\n",
    "#Request\n",
    "import requests\n",
    "\n",
    "#Pandas\n",
    "import pandas as pd"
   ]
  },
  {
   "attachments": {},
   "cell_type": "markdown",
   "metadata": {},
   "source": [
    "[ Índice </p> ](#id0)\n",
    "\n",
    "---"
   ]
  },
  {
   "cell_type": "markdown",
   "metadata": {},
   "source": [
    "<div id='id4' > </div>\n",
    "\n",
    "<head>\n",
    "     <meta http-equiv=\"Content-Type\"content=\"text/html\"charset=\"utf-8\">\n",
    "     <link href=\"./css_estilos/estilo_01.css\"rel=\"stylesheet\"type=\"text/css\"> \n",
    "</head>\n",
    "<body>\n",
    "     <h1> <b> Extración de los Datos </b> <br> </h1>\n",
    "</body>"
   ]
  },
  {
   "cell_type": "code",
   "execution_count": 2,
   "metadata": {},
   "outputs": [],
   "source": [
    "#Definir los directorios y las rutas\n",
    "MAIN_DIR = (Path(os.path.abspath(''))).parent                                    #out: \"$PWD/streaming_catalog_api\"\n",
    "DATA_DIR = Path(f\"{MAIN_DIR}/data\")                                              #out: \"$PWD/streaming_catalog_api/data\"\n",
    "EXT_DIR =  Path(f\"{DATA_DIR}/external\")                                          #out: \"$PWD/streaming_catalog_api/data/external\"\n",
    "INT_DIR = Path(f\"{DATA_DIR}/interim\")                                            #out: \"$PWD/streaming_catalog_api/data/interim\"\n",
    "PRO_DIR = Path(f\"{MAIN_DIR}/processed\")                                          #out: \"$PWD/streaming_catalog_api/data/raw\""
   ]
  },
  {
   "cell_type": "code",
   "execution_count": null,
   "metadata": {},
   "outputs": [],
   "source": [
    "print(\n",
    "    \"MAIN_DIR:\" f\"{MAIN_DIR}\\n\",\n",
    "    \"DATA_DIR:\" f\"{DATA_DIR}\\n\",\n",
    "    \"EXT_DIR:\" f\"{EXT_DIR}\\n\",\n",
    "    \"INT_DIR:\" f\"{INT_DIR}\\n\",\n",
    "    \"PRO_DIR:\" f\"{PRO_DIR}\\n\"\n",
    ")"
   ]
  },
  {
   "cell_type": "code",
   "execution_count": 3,
   "metadata": {},
   "outputs": [],
   "source": [
    "#Crear una lista de diccionarios para almacenar la categoría y la url\n",
    "category_list = [\n",
    "    {\n",
    "        \"name\": \"amazon_prime_titles\",\n",
    "        \"url\": \"https://raw.githubusercontent.com/HX-FAshur/PI01_DATA05/main/Datasets/amazon_prime_titles.csv\"\n",
    "    },\n",
    "    {\n",
    "        \"name\": \"disney_plus_titles\",\n",
    "        \"url\": \"https://raw.githubusercontent.com/HX-FAshur/PI01_DATA05/main/Datasets/disney_plus_titles.csv\"\n",
    "    },\n",
    "    {\n",
    "        \"name\": \"hulu_titles\",\n",
    "        \"url\": \"https://raw.githubusercontent.com/HX-FAshur/PI01_DATA05/main/Datasets/hulu_titles.csv\"\n",
    "    },\n",
    "    {\n",
    "        \"name\": \"netflix_titles\",\n",
    "        \"url\": \"https://raw.githubusercontent.com/HX-FAshur/PI01_DATA05/main/Datasets/netflix_titles.json\"\n",
    "    }\n",
    "    ]"
   ]
  },
  {
   "cell_type": "code",
   "execution_count": 4,
   "metadata": {},
   "outputs": [],
   "source": [
    "#Definir la función get_data: esta función obtiene mediante web scraping las fuentes de datos\n",
    "def get_data(category_list):\n",
    "    for i in range(len(category_list)):\n",
    "        streaming_plataform = category_list[i][\"name\"]\n",
    "        if streaming_plataform != \"netflix_titles\":\n",
    "            file_name = \"{category}/{year}-{month:02d}/{category}-{day:02d}-{month:02d}-{year}.csv\"\n",
    "        else:\n",
    "            file_name = \"{category}/{year}-{month:02d}/{category}-{day:02d}-{month:02d}-{year}.json\"\n",
    "        \n",
    "        now = datetime.now()\n",
    "        category = category_list[i][\"name\"]\n",
    "        year = now.year\n",
    "        month = now.month\n",
    "        day = now.day\n",
    "        \n",
    "        r = requests.get(category_list[i][\"url\"])\n",
    "        r.encoding = 'utf-8'\n",
    "        FILE_NAME = file_name.format(\n",
    "            category = category, \n",
    "            year = year, \n",
    "            month = month, \n",
    "            day = day\n",
    "            )\n",
    "\n",
    "        FILE_PATH = EXT_DIR/FILE_NAME\n",
    "        FILE_PATH.parent.mkdir(\n",
    "            parents=True,\n",
    "            exist_ok=True\n",
    "            )\n",
    "            \n",
    "        with open(FILE_PATH,'w') as file_outp:\n",
    "            file_outp.write(r.text)\n",
    "            print(f\"Se ha guardado el archivo en el directorio: {FILE_PATH} \\n\")"
   ]
  },
  {
   "cell_type": "code",
   "execution_count": 5,
   "metadata": {},
   "outputs": [
    {
     "name": "stdout",
     "output_type": "stream",
     "text": [
      "Se ha guardado el archivo en el directorio: c:\\Users\\Jose Salas\\OneDrive\\Escritorio\\streaming_catalog_api\\data\\external\\amazon_prime_titles\\2022-12\\amazon_prime_titles-08-12-2022.csv \n",
      "\n",
      "Se ha guardado el archivo en el directorio: c:\\Users\\Jose Salas\\OneDrive\\Escritorio\\streaming_catalog_api\\data\\external\\disney_plus_titles\\2022-12\\disney_plus_titles-08-12-2022.csv \n",
      "\n",
      "Se ha guardado el archivo en el directorio: c:\\Users\\Jose Salas\\OneDrive\\Escritorio\\streaming_catalog_api\\data\\external\\hulu_titles\\2022-12\\hulu_titles-08-12-2022.csv \n",
      "\n",
      "Se ha guardado el archivo en el directorio: c:\\Users\\Jose Salas\\OneDrive\\Escritorio\\streaming_catalog_api\\data\\external\\netflix_titles\\2022-12\\netflix_titles-08-12-2022.json \n",
      "\n"
     ]
    }
   ],
   "source": [
    "#Ejecutar la función get data\n",
    "get_data(category_list = category_list)"
   ]
  },
  {
   "attachments": {},
   "cell_type": "markdown",
   "metadata": {},
   "source": [
    "[ Índice </p> ](#id0)\n",
    "\n",
    "---"
   ]
  },
  {
   "cell_type": "markdown",
   "metadata": {},
   "source": [
    "<div id='id5' > </div>\n",
    "\n",
    "<head>\n",
    "     <meta http-equiv=\"Content-Type\"content=\"text/html\"charset=\"utf-8\">\n",
    "     <link href=\"./css_estilos/estilo_01.css\"rel=\"stylesheet\"type=\"text/css\"> \n",
    "</head>\n",
    "<body>\n",
    "     <h1> <b> Carga de los Datos en Dataframes </b> <br> </h1>\n",
    "</body>"
   ]
  },
  {
   "attachments": {},
   "cell_type": "markdown",
   "metadata": {},
   "source": [
    "<div id='id6' > </div>\n",
    "\n",
    "<head>\n",
    "     <meta http-equiv=\"Content-Type\"content=\"text/html\"charset=\"utf-8\">\n",
    "     <link href=\"./css_estilos/estilo_01.css\"rel=\"stylesheet\"type=\"text/css\"> \n",
    "</head>\n",
    "<body>\n",
    "     <h2> <b> Fuente de Datos</b>: Títulos de amazon prime </h2>\n",
    "</body>"
   ]
  },
  {
   "cell_type": "code",
   "execution_count": 6,
   "metadata": {},
   "outputs": [],
   "source": [
    "#Declarar los parámetros para la carga del dataframe\n",
    "path = \"c:/Users/Jose Salas/OneDrive/Escritorio/streaming_catalog_api/data/external/amazon_prime_titles/2022-12/amazon_prime_titles-08-12-2022.csv\"\n",
    "sep = \",\"\n",
    "cod = \"utf-8\"\n",
    "\n",
    "amz_df = pd.read_csv(filepath_or_buffer = path, delimiter = sep, encoding = cod)"
   ]
  },
  {
   "cell_type": "code",
   "execution_count": 7,
   "metadata": {},
   "outputs": [
    {
     "data": {
      "text/html": [
       "<div>\n",
       "<style scoped>\n",
       "    .dataframe tbody tr th:only-of-type {\n",
       "        vertical-align: middle;\n",
       "    }\n",
       "\n",
       "    .dataframe tbody tr th {\n",
       "        vertical-align: top;\n",
       "    }\n",
       "\n",
       "    .dataframe thead th {\n",
       "        text-align: right;\n",
       "    }\n",
       "</style>\n",
       "<table border=\"1\" class=\"dataframe\">\n",
       "  <thead>\n",
       "    <tr style=\"text-align: right;\">\n",
       "      <th></th>\n",
       "      <th>show_id</th>\n",
       "      <th>type</th>\n",
       "      <th>title</th>\n",
       "      <th>director</th>\n",
       "      <th>cast</th>\n",
       "      <th>country</th>\n",
       "      <th>date_added</th>\n",
       "      <th>release_year</th>\n",
       "      <th>rating</th>\n",
       "      <th>duration</th>\n",
       "      <th>listed_in</th>\n",
       "      <th>description</th>\n",
       "    </tr>\n",
       "  </thead>\n",
       "  <tbody>\n",
       "    <tr>\n",
       "      <th>0</th>\n",
       "      <td>s1</td>\n",
       "      <td>Movie</td>\n",
       "      <td>The Grand Seduction</td>\n",
       "      <td>Don McKellar</td>\n",
       "      <td>Brendan Gleeson, Taylor Kitsch, Gordon Pinsent</td>\n",
       "      <td>Canada</td>\n",
       "      <td>March 30, 2021</td>\n",
       "      <td>2014</td>\n",
       "      <td>NaN</td>\n",
       "      <td>113 min</td>\n",
       "      <td>Comedy, Drama</td>\n",
       "      <td>A small fishing village must procure a local d...</td>\n",
       "    </tr>\n",
       "    <tr>\n",
       "      <th>1</th>\n",
       "      <td>s2</td>\n",
       "      <td>Movie</td>\n",
       "      <td>Take Care Good Night</td>\n",
       "      <td>Girish Joshi</td>\n",
       "      <td>Mahesh Manjrekar, Abhay Mahajan, Sachin Khedekar</td>\n",
       "      <td>India</td>\n",
       "      <td>March 30, 2021</td>\n",
       "      <td>2018</td>\n",
       "      <td>13+</td>\n",
       "      <td>110 min</td>\n",
       "      <td>Drama, International</td>\n",
       "      <td>A Metro Family decides to fight a Cyber Crimin...</td>\n",
       "    </tr>\n",
       "    <tr>\n",
       "      <th>2</th>\n",
       "      <td>s3</td>\n",
       "      <td>Movie</td>\n",
       "      <td>Secrets of Deception</td>\n",
       "      <td>Josh Webber</td>\n",
       "      <td>Tom Sizemore, Lorenzo Lamas, Robert LaSardo, R...</td>\n",
       "      <td>United States</td>\n",
       "      <td>March 30, 2021</td>\n",
       "      <td>2017</td>\n",
       "      <td>NaN</td>\n",
       "      <td>74 min</td>\n",
       "      <td>Action, Drama, Suspense</td>\n",
       "      <td>After a man discovers his wife is cheating on ...</td>\n",
       "    </tr>\n",
       "    <tr>\n",
       "      <th>3</th>\n",
       "      <td>s4</td>\n",
       "      <td>Movie</td>\n",
       "      <td>Pink: Staying True</td>\n",
       "      <td>Sonia Anderson</td>\n",
       "      <td>Interviews with: Pink, Adele, Beyoncé, Britney...</td>\n",
       "      <td>United States</td>\n",
       "      <td>March 30, 2021</td>\n",
       "      <td>2014</td>\n",
       "      <td>NaN</td>\n",
       "      <td>69 min</td>\n",
       "      <td>Documentary</td>\n",
       "      <td>Pink breaks the mold once again, bringing her ...</td>\n",
       "    </tr>\n",
       "    <tr>\n",
       "      <th>4</th>\n",
       "      <td>s5</td>\n",
       "      <td>Movie</td>\n",
       "      <td>Monster Maker</td>\n",
       "      <td>Giles Foster</td>\n",
       "      <td>Harry Dean Stanton, Kieran O'Brien, George Cos...</td>\n",
       "      <td>United Kingdom</td>\n",
       "      <td>March 30, 2021</td>\n",
       "      <td>1989</td>\n",
       "      <td>NaN</td>\n",
       "      <td>45 min</td>\n",
       "      <td>Drama, Fantasy</td>\n",
       "      <td>Teenage Matt Banting wants to work with a famo...</td>\n",
       "    </tr>\n",
       "  </tbody>\n",
       "</table>\n",
       "</div>"
      ],
      "text/plain": [
       "  show_id   type                 title        director  \\\n",
       "0      s1  Movie   The Grand Seduction    Don McKellar   \n",
       "1      s2  Movie  Take Care Good Night    Girish Joshi   \n",
       "2      s3  Movie  Secrets of Deception     Josh Webber   \n",
       "3      s4  Movie    Pink: Staying True  Sonia Anderson   \n",
       "4      s5  Movie         Monster Maker    Giles Foster   \n",
       "\n",
       "                                                cast         country  \\\n",
       "0     Brendan Gleeson, Taylor Kitsch, Gordon Pinsent          Canada   \n",
       "1   Mahesh Manjrekar, Abhay Mahajan, Sachin Khedekar           India   \n",
       "2  Tom Sizemore, Lorenzo Lamas, Robert LaSardo, R...   United States   \n",
       "3  Interviews with: Pink, Adele, Beyoncé, Britney...   United States   \n",
       "4  Harry Dean Stanton, Kieran O'Brien, George Cos...  United Kingdom   \n",
       "\n",
       "       date_added  release_year rating duration                listed_in  \\\n",
       "0  March 30, 2021          2014    NaN  113 min            Comedy, Drama   \n",
       "1  March 30, 2021          2018    13+  110 min     Drama, International   \n",
       "2  March 30, 2021          2017    NaN   74 min  Action, Drama, Suspense   \n",
       "3  March 30, 2021          2014    NaN   69 min              Documentary   \n",
       "4  March 30, 2021          1989    NaN   45 min           Drama, Fantasy   \n",
       "\n",
       "                                         description  \n",
       "0  A small fishing village must procure a local d...  \n",
       "1  A Metro Family decides to fight a Cyber Crimin...  \n",
       "2  After a man discovers his wife is cheating on ...  \n",
       "3  Pink breaks the mold once again, bringing her ...  \n",
       "4  Teenage Matt Banting wants to work with a famo...  "
      ]
     },
     "execution_count": 7,
     "metadata": {},
     "output_type": "execute_result"
    }
   ],
   "source": [
    "#Visualizar preliminarmente el dataframe\n",
    "amz_df.head()"
   ]
  },
  {
   "cell_type": "code",
   "execution_count": 11,
   "metadata": {},
   "outputs": [
    {
     "data": {
      "text/html": [
       "<div>\n",
       "<style scoped>\n",
       "    .dataframe tbody tr th:only-of-type {\n",
       "        vertical-align: middle;\n",
       "    }\n",
       "\n",
       "    .dataframe tbody tr th {\n",
       "        vertical-align: top;\n",
       "    }\n",
       "\n",
       "    .dataframe thead th {\n",
       "        text-align: right;\n",
       "    }\n",
       "</style>\n",
       "<table border=\"1\" class=\"dataframe\">\n",
       "  <thead>\n",
       "    <tr style=\"text-align: right;\">\n",
       "      <th></th>\n",
       "      <th>count</th>\n",
       "      <th>mean</th>\n",
       "      <th>std</th>\n",
       "      <th>min</th>\n",
       "      <th>25%</th>\n",
       "      <th>50%</th>\n",
       "      <th>75%</th>\n",
       "      <th>max</th>\n",
       "    </tr>\n",
       "  </thead>\n",
       "  <tbody>\n",
       "    <tr>\n",
       "      <th>release_year</th>\n",
       "      <td>9668.0</td>\n",
       "      <td>2008.341849</td>\n",
       "      <td>18.922482</td>\n",
       "      <td>1920.0</td>\n",
       "      <td>2007.0</td>\n",
       "      <td>2016.0</td>\n",
       "      <td>2019.0</td>\n",
       "      <td>2021.0</td>\n",
       "    </tr>\n",
       "  </tbody>\n",
       "</table>\n",
       "</div>"
      ],
      "text/plain": [
       "               count         mean        std     min     25%     50%     75%  \\\n",
       "release_year  9668.0  2008.341849  18.922482  1920.0  2007.0  2016.0  2019.0   \n",
       "\n",
       "                 max  \n",
       "release_year  2021.0  "
      ]
     },
     "execution_count": 11,
     "metadata": {},
     "output_type": "execute_result"
    }
   ],
   "source": [
    "#Inspeccionar el dataframe\n",
    "amz_df.describe().transpose()"
   ]
  },
  {
   "cell_type": "code",
   "execution_count": 16,
   "metadata": {},
   "outputs": [
    {
     "name": "stdout",
     "output_type": "stream",
     "text": [
      "Variables numericas:\n",
      "\trelease_year\n",
      "\n",
      "\n",
      "Variables categóricas:\n",
      "\tshow_id\n",
      "\ttype\n",
      "\ttitle\n",
      "\tdirector\n",
      "\tcast\n",
      "\tcountry\n",
      "\tdate_added\n",
      "\trating\n",
      "\tduration\n",
      "\tlisted_in\n",
      "\tdescription\n"
     ]
    }
   ],
   "source": [
    "# Identificar variables categóricas y numércias/ Identifie cateorical and numerical vars\n",
    "num_vars = amz_df.columns[amz_df.dtypes != \"object\"]\n",
    "cat_vars = amz_df.columns[amz_df.dtypes == \"object\"]\n",
    "\n",
    "print(\"Variables numericas:\")\n",
    "for var in num_vars:\n",
    "    print(f\"\\t{var}\")\n",
    "print(\"\\n\")\n",
    "\n",
    "print(\"Variables categóricas:\")\n",
    "for var in cat_vars:\n",
    "    print(f\"\\t{var}\")"
   ]
  },
  {
   "cell_type": "code",
   "execution_count": 8,
   "metadata": {},
   "outputs": [
    {
     "name": "stdout",
     "output_type": "stream",
     "text": [
      "<class 'pandas.core.frame.DataFrame'>\n",
      "RangeIndex: 9668 entries, 0 to 9667\n",
      "Data columns (total 12 columns):\n",
      " #   Column        Non-Null Count  Dtype \n",
      "---  ------        --------------  ----- \n",
      " 0   show_id       9668 non-null   object\n",
      " 1   type          9668 non-null   object\n",
      " 2   title         9668 non-null   object\n",
      " 3   director      7586 non-null   object\n",
      " 4   cast          8435 non-null   object\n",
      " 5   country       672 non-null    object\n",
      " 6   date_added    155 non-null    object\n",
      " 7   release_year  9668 non-null   int64 \n",
      " 8   rating        9331 non-null   object\n",
      " 9   duration      9668 non-null   object\n",
      " 10  listed_in     9668 non-null   object\n",
      " 11  description   9668 non-null   object\n",
      "dtypes: int64(1), object(11)\n",
      "memory usage: 906.5+ KB\n"
     ]
    }
   ],
   "source": [
    "# Visualizar las columnas del dataframe y sus tipos de datos\n",
    "amz_df.info()"
   ]
  },
  {
   "cell_type": "code",
   "execution_count": 14,
   "metadata": {},
   "outputs": [
    {
     "data": {
      "text/plain": [
       "show_id            0\n",
       "type               0\n",
       "title              0\n",
       "director        2082\n",
       "cast            1233\n",
       "country         8996\n",
       "date_added      9513\n",
       "release_year       0\n",
       "rating           337\n",
       "duration           0\n",
       "listed_in          0\n",
       "description        0\n",
       "dtype: int64"
      ]
     },
     "execution_count": 14,
     "metadata": {},
     "output_type": "execute_result"
    }
   ],
   "source": [
    "#IIdentificar registros nulos\n",
    "amz_df.isnull().sum()"
   ]
  },
  {
   "cell_type": "code",
   "execution_count": 15,
   "metadata": {},
   "outputs": [
    {
     "data": {
      "text/plain": [
       "show_id            0\n",
       "type               0\n",
       "title              0\n",
       "director        2082\n",
       "cast            1233\n",
       "country         8996\n",
       "date_added      9513\n",
       "release_year       0\n",
       "rating           337\n",
       "duration           0\n",
       "listed_in          0\n",
       "description        0\n",
       "dtype: int64"
      ]
     },
     "execution_count": 15,
     "metadata": {},
     "output_type": "execute_result"
    }
   ],
   "source": [
    "#Iddentificar registros vacíos\n",
    "amz_df.isna().sum()"
   ]
  },
  {
   "cell_type": "markdown",
   "metadata": {},
   "source": [
    "<head>\n",
    "     <meta http-equiv=\"Content-Type\"content=\"text/html\"charset=\"utf-8\">\n",
    "     <link href=\"./css_estilos/estilo_01.css\"rel=\"stylesheet\"type=\"text/css\"> \n",
    "</head>\n",
    "<body>\n",
    "     <h3> <b> Selección de las Columnas de Interes </b> </h3>\n",
    "</body>"
   ]
  },
  {
   "cell_type": "code",
   "execution_count": 20,
   "metadata": {},
   "outputs": [],
   "source": [
    "#Definir las columnas que deseamos conservar\n",
    "columns = [ \n",
    "            \"show_id\", \n",
    "            \"type\", \n",
    "            \"title\", \n",
    "            \"cast\", \n",
    "            \"date_added\", \n",
    "            \"duration\", \n",
    "            \"listed_in\"\n",
    "            ]"
   ]
  },
  {
   "cell_type": "code",
   "execution_count": 21,
   "metadata": {},
   "outputs": [
    {
     "data": {
      "text/html": [
       "<div>\n",
       "<style scoped>\n",
       "    .dataframe tbody tr th:only-of-type {\n",
       "        vertical-align: middle;\n",
       "    }\n",
       "\n",
       "    .dataframe tbody tr th {\n",
       "        vertical-align: top;\n",
       "    }\n",
       "\n",
       "    .dataframe thead th {\n",
       "        text-align: right;\n",
       "    }\n",
       "</style>\n",
       "<table border=\"1\" class=\"dataframe\">\n",
       "  <thead>\n",
       "    <tr style=\"text-align: right;\">\n",
       "      <th></th>\n",
       "      <th>show_id</th>\n",
       "      <th>type</th>\n",
       "      <th>title</th>\n",
       "      <th>cast</th>\n",
       "      <th>date_added</th>\n",
       "      <th>duration</th>\n",
       "      <th>listed_in</th>\n",
       "    </tr>\n",
       "  </thead>\n",
       "  <tbody>\n",
       "    <tr>\n",
       "      <th>0</th>\n",
       "      <td>s1</td>\n",
       "      <td>Movie</td>\n",
       "      <td>The Grand Seduction</td>\n",
       "      <td>Brendan Gleeson, Taylor Kitsch, Gordon Pinsent</td>\n",
       "      <td>March 30, 2021</td>\n",
       "      <td>113 min</td>\n",
       "      <td>Comedy, Drama</td>\n",
       "    </tr>\n",
       "    <tr>\n",
       "      <th>1</th>\n",
       "      <td>s2</td>\n",
       "      <td>Movie</td>\n",
       "      <td>Take Care Good Night</td>\n",
       "      <td>Mahesh Manjrekar, Abhay Mahajan, Sachin Khedekar</td>\n",
       "      <td>March 30, 2021</td>\n",
       "      <td>110 min</td>\n",
       "      <td>Drama, International</td>\n",
       "    </tr>\n",
       "    <tr>\n",
       "      <th>2</th>\n",
       "      <td>s3</td>\n",
       "      <td>Movie</td>\n",
       "      <td>Secrets of Deception</td>\n",
       "      <td>Tom Sizemore, Lorenzo Lamas, Robert LaSardo, R...</td>\n",
       "      <td>March 30, 2021</td>\n",
       "      <td>74 min</td>\n",
       "      <td>Action, Drama, Suspense</td>\n",
       "    </tr>\n",
       "    <tr>\n",
       "      <th>3</th>\n",
       "      <td>s4</td>\n",
       "      <td>Movie</td>\n",
       "      <td>Pink: Staying True</td>\n",
       "      <td>Interviews with: Pink, Adele, Beyoncé, Britney...</td>\n",
       "      <td>March 30, 2021</td>\n",
       "      <td>69 min</td>\n",
       "      <td>Documentary</td>\n",
       "    </tr>\n",
       "    <tr>\n",
       "      <th>4</th>\n",
       "      <td>s5</td>\n",
       "      <td>Movie</td>\n",
       "      <td>Monster Maker</td>\n",
       "      <td>Harry Dean Stanton, Kieran O'Brien, George Cos...</td>\n",
       "      <td>March 30, 2021</td>\n",
       "      <td>45 min</td>\n",
       "      <td>Drama, Fantasy</td>\n",
       "    </tr>\n",
       "  </tbody>\n",
       "</table>\n",
       "</div>"
      ],
      "text/plain": [
       "  show_id   type                 title  \\\n",
       "0      s1  Movie   The Grand Seduction   \n",
       "1      s2  Movie  Take Care Good Night   \n",
       "2      s3  Movie  Secrets of Deception   \n",
       "3      s4  Movie    Pink: Staying True   \n",
       "4      s5  Movie         Monster Maker   \n",
       "\n",
       "                                                cast      date_added duration  \\\n",
       "0     Brendan Gleeson, Taylor Kitsch, Gordon Pinsent  March 30, 2021  113 min   \n",
       "1   Mahesh Manjrekar, Abhay Mahajan, Sachin Khedekar  March 30, 2021  110 min   \n",
       "2  Tom Sizemore, Lorenzo Lamas, Robert LaSardo, R...  March 30, 2021   74 min   \n",
       "3  Interviews with: Pink, Adele, Beyoncé, Britney...  March 30, 2021   69 min   \n",
       "4  Harry Dean Stanton, Kieran O'Brien, George Cos...  March 30, 2021   45 min   \n",
       "\n",
       "                 listed_in  \n",
       "0            Comedy, Drama  \n",
       "1     Drama, International  \n",
       "2  Action, Drama, Suspense  \n",
       "3              Documentary  \n",
       "4           Drama, Fantasy  "
      ]
     },
     "execution_count": 21,
     "metadata": {},
     "output_type": "execute_result"
    }
   ],
   "source": [
    "amz_df[columns].head()"
   ]
  },
  {
   "cell_type": "code",
   "execution_count": null,
   "metadata": {},
   "outputs": [],
   "source": [
    "#Duplicar el dataframe original conservando únicamente las columnas de interes\n",
    "amz_edit_df = amz_df[columns]"
   ]
  }
 ],
 "metadata": {
  "kernelspec": {
   "display_name": "data_science",
   "language": "python",
   "name": "python3"
  },
  "language_info": {
   "codemirror_mode": {
    "name": "ipython",
    "version": 3
   },
   "file_extension": ".py",
   "mimetype": "text/x-python",
   "name": "python",
   "nbconvert_exporter": "python",
   "pygments_lexer": "ipython3",
   "version": "3.10.8"
  },
  "orig_nbformat": 4,
  "vscode": {
   "interpreter": {
    "hash": "f3fbfe52244383f0f41d2f56f5e4d4c83754b326087b0347a57dd940b1f157af"
   }
  }
 },
 "nbformat": 4,
 "nbformat_minor": 2
}
