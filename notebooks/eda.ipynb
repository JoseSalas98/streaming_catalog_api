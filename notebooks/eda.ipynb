{
 "cells": [
  {
   "attachments": {},
   "cell_type": "markdown",
   "metadata": {},
   "source": [
    "<div id='id0' > </div>\n",
    "\n",
    "<body>\n",
    "    <h1> <b> Análisis Exploratorio de Datos </b> </h1> \n",
    "    <h2> <b> Índice </b> </h2>\n",
    "</body>\n",
    "\n",
    "1.  [Generalidades](#id1)\n",
    "2.  [Características Preliminares de las Fuentes de Datos](#id2)\n",
    "3.  [Imoportación de la Librerías Requeridas](#id3)\n",
    "4.  [Extración de los Datos](#id4)\n",
    "5.  [Carga de los Datos en Dataframes](#id5)\n",
    "6.  [Fuente de Datos: Bibliotecas Populares](#id6)\n",
    "7.  [Fuente de Datos: Museos](#id7)\n",
    "8.  [Fuente de Datos: Salas de Cines](#id8)\n",
    "9.  [Unión de los Dataframes](#id9)\n",
    "10. [Obtención de los Insights](#id10)\n",
    "\n",
    "---\n"
   ]
  },
  {
   "attachments": {},
   "cell_type": "markdown",
   "metadata": {},
   "source": [
    "<div id='id1' > </div>\n",
    "\n",
    "<body>\n",
    "     <h1> <b> Generalidades </b> <br> </h1>\n",
    "     <p> Los datos fueron provistos en archivos de diferentes extensiones, como csv o json. La información ha de ser procesada y normalizada para cada dataset, entre otras tareas, para obtener información relevante, tal como: <p>\n",
    "     <ul>\n",
    "          <li> <p> \n",
    "          Máxima duración según tipo de film (película/serie), por plataforma y por año: El request debe ser: get_max_duration(año, plataforma, [min o season])</b>. </li>\n",
    "          <li> <p> \n",
    "          Cantidad de películas y series (separado) por plataforma El request debe ser: get_count_plataform(plataforma)</b>. </li>\n",
    "          <li> <p> \n",
    "          Cantidad de veces que se repite un género y plataforma con mayor frecuencia del mismo. El request debe ser: get_listedin('genero')</b>. </li>\n",
    "          <li> <p> \n",
    "          Actor que más se repite según plataforma y año. El request debe ser: get_actor(plataforma, año)</b>. </li>\n",
    "     </ul> \n",
    "</body>\n",
    "\n",
    "---\n"
   ]
  },
  {
   "attachments": {},
   "cell_type": "markdown",
   "metadata": {},
   "source": [
    "<div id='id2' > </div>\n",
    "\n",
    "<head>\n",
    "     <meta http-equiv=\"Content-Type\"content=\"text/html\"charset=\"utf-8\">\n",
    "     <link href=\"./css_estilos/estilo_01.css\"rel=\"stylesheet\"type=\"text/css\"> \n",
    "</head>\n",
    "<body>\n",
    "     <h1> <b> Características Preliminares de las Fuentes de Datos </b> <br> </h1>\n",
    "     <p>\n",
    "     Los datasets disponibles corresponden ha los titulos disponibles en cuatro proveedores de streaming. <br>\n",
    "     <br>\n",
    "     Los recursos recuperados de las fuentes fueron:\n",
    "          <ul>\n",
    "               <li> <p> \n",
    "               Títulos de amazon prime: amazon_prime_titles.csv</b>. </li>\n",
    "               <li> <p> \n",
    "               Títulos de Disney Plus: disney_plus_titles.csv</b>. </li>\n",
    "               <li> <p> \n",
    "               Títulos de Hulu: hulu_titles.csv</b>. </li>\n",
    "               <li> <p> \n",
    "               Títulos de Netflix: netflix_titles.json</b>. </li>\n",
    "               </ul> \n",
    "     </p>\n",
    "</body>"
   ]
  },
  {
   "attachments": {},
   "cell_type": "markdown",
   "metadata": {},
   "source": [
    "[ Índice </p> ](#id0)\n",
    "\n",
    "---"
   ]
  },
  {
   "cell_type": "markdown",
   "metadata": {},
   "source": [
    "<div id='id3' > </div>\n",
    "\n",
    "<head>\n",
    "     <meta http-equiv=\"Content-Type\"content=\"text/html\"charset=\"utf-8\">\n",
    "     <link href=\"./css_estilos/estilo_01.css\"rel=\"stylesheet\"type=\"text/css\"> \n",
    "</head>\n",
    "<body>\n",
    "     <h1> <b> Imoportación de la Librerías Requeridas </b> <br> </h1>\n",
    "</body>"
   ]
  },
  {
   "cell_type": "code",
   "execution_count": 2,
   "metadata": {},
   "outputs": [],
   "source": [
    "#   Importamos la librerías\n",
    "#Python \n",
    "import os\n",
    "from pathlib import Path\n",
    "from datetime import datetime\n",
    "\n",
    "#Request\n",
    "import requests\n",
    "\n",
    "#Pandas\n",
    "import pandas as pd"
   ]
  },
  {
   "attachments": {},
   "cell_type": "markdown",
   "metadata": {},
   "source": [
    "[ Índice </p> ](#id0)\n",
    "\n",
    "---"
   ]
  },
  {
   "cell_type": "markdown",
   "metadata": {},
   "source": [
    "<div id='id4' > </div>\n",
    "\n",
    "<head>\n",
    "     <meta http-equiv=\"Content-Type\"content=\"text/html\"charset=\"utf-8\">\n",
    "     <link href=\"./css_estilos/estilo_01.css\"rel=\"stylesheet\"type=\"text/css\"> \n",
    "</head>\n",
    "<body>\n",
    "     <h1> <b> Extración de los Datos </b> <br> </h1>\n",
    "</body>"
   ]
  },
  {
   "cell_type": "code",
   "execution_count": 3,
   "metadata": {},
   "outputs": [],
   "source": [
    "#   Definimos los directorios y las rutas\n",
    "MAIN_DIR = (Path(os.path.abspath(''))).parent                                    #out: \"$PWD/streaming_catalog_api\"\n",
    "DATA_DIR = Path(f\"{MAIN_DIR}/data\")                                              #out: \"$PWD/streaming_catalog_api/data\"\n",
    "EXT_DIR =  Path(f\"{DATA_DIR}/external\")                                          #out: \"$PWD/streaming_catalog_api/data/external\"\n",
    "INT_DIR = Path(f\"{DATA_DIR}/interim\")                                            #out: \"$PWD/streaming_catalog_api/data/interim\"\n",
    "PRO_DIR = Path(f\"{MAIN_DIR}/processed\")                                          #out: \"$PWD/streaming_catalog_api/data/raw\""
   ]
  },
  {
   "cell_type": "code",
   "execution_count": 5,
   "metadata": {},
   "outputs": [
    {
     "name": "stdout",
     "output_type": "stream",
     "text": [
      "MAIN_DIR:c:\\Users\\Jose Salas\\OneDrive\\Escritorio\\streaming_catalog_api\n",
      " DATA_DIR:c:\\Users\\Jose Salas\\OneDrive\\Escritorio\\streaming_catalog_api\\data\n",
      " EXT_DIR:c:\\Users\\Jose Salas\\OneDrive\\Escritorio\\streaming_catalog_api\\data\\external\n",
      " INT_DIR:c:\\Users\\Jose Salas\\OneDrive\\Escritorio\\streaming_catalog_api\\data\\interim\n",
      " PRO_DIR:c:\\Users\\Jose Salas\\OneDrive\\Escritorio\\streaming_catalog_api\\processed\n",
      "\n"
     ]
    }
   ],
   "source": [
    "print(\n",
    "    \"MAIN_DIR:\" f\"{MAIN_DIR}\\n\",\n",
    "    \"DATA_DIR:\" f\"{DATA_DIR}\\n\",\n",
    "    \"EXT_DIR:\" f\"{EXT_DIR}\\n\",\n",
    "    \"INT_DIR:\" f\"{INT_DIR}\\n\",\n",
    "    \"PRO_DIR:\" f\"{PRO_DIR}\\n\"\n",
    ")"
   ]
  },
  {
   "cell_type": "code",
   "execution_count": 4,
   "metadata": {},
   "outputs": [],
   "source": [
    "#   Creamos una lista de diccionarios para almacenar la categoría y la url\n",
    "category_list = [\n",
    "    {\n",
    "        \"name\": \"amazon_prime_titles\",\n",
    "        \"url\": \"https://raw.githubusercontent.com/HX-FAshur/PI01_DATA05/main/Datasets/amazon_prime_titles.csv\"\n",
    "    },\n",
    "    {\n",
    "        \"name\": \"disney_plus_titles\",\n",
    "        \"url\": \"https://raw.githubusercontent.com/HX-FAshur/PI01_DATA05/main/Datasets/disney_plus_titles.csv\"\n",
    "    },\n",
    "    {\n",
    "        \"name\": \"hulu_titles\",\n",
    "        \"url\": \"https://raw.githubusercontent.com/HX-FAshur/PI01_DATA05/main/Datasets/hulu_titles.csv\"\n",
    "    },\n",
    "    {\n",
    "        \"name\": \"netflix_titles\",\n",
    "        \"url\": \"https://raw.githubusercontent.com/HX-FAshur/PI01_DATA05/main/Datasets/netflix_titles.json\"\n",
    "    }\n",
    "    ]"
   ]
  },
  {
   "cell_type": "code",
   "execution_count": 9,
   "metadata": {},
   "outputs": [
    {
     "data": {
      "text/plain": [
       "'netflix_titles'"
      ]
     },
     "execution_count": 9,
     "metadata": {},
     "output_type": "execute_result"
    }
   ],
   "source": [
    "category_list[3][\"name\"]"
   ]
  },
  {
   "cell_type": "code",
   "execution_count": 15,
   "metadata": {},
   "outputs": [],
   "source": [
    "def get_data(category_list):\n",
    "    for i in range(len(category_list)):\n",
    "        streaming_plataform = category_list[i][\"name\"]\n",
    "        if streaming_plataform != \"netflix_titles\":\n",
    "            file_name = \"{category}/{year}-{month:02d}/{category}-{day:02d}-{month:02d}-{year}.csv\"\n",
    "        else:\n",
    "            file_name = \"{category}/{year}-{month:02d}/{category}-{day:02d}-{month:02d}-{year}.json\"\n",
    "        \n",
    "        now = datetime.now()\n",
    "        category = category_list[i][\"name\"]\n",
    "        year = now.year\n",
    "        month = now.month\n",
    "        day = now.day\n",
    "        \n",
    "        r = requests.get(category_list[i][\"url\"])\n",
    "        r.encoding = 'utf-8'\n",
    "        FILE_NAME = file_name.format(\n",
    "            category = category, \n",
    "            year = year, \n",
    "            month = month, \n",
    "            day = day\n",
    "            )\n",
    "\n",
    "        FILE_PATH = EXT_DIR/FILE_NAME\n",
    "        FILE_PATH.parent.mkdir(\n",
    "            parents=True,\n",
    "            exist_ok=True\n",
    "            )\n",
    "            \n",
    "        with open(FILE_PATH,'w') as file_outp:\n",
    "            file_outp.write(r.text)\n",
    "            print(f\"Se ha guardado el archivo en el directorio: {FILE_PATH} \\n\")"
   ]
  },
  {
   "cell_type": "code",
   "execution_count": 16,
   "metadata": {},
   "outputs": [
    {
     "name": "stdout",
     "output_type": "stream",
     "text": [
      "Se ha guardado el archivo en el directorio: c:\\Users\\Jose Salas\\OneDrive\\Escritorio\\streaming_catalog_api\\data\\external\\amazon_prime_titles\\2022-12\\amazon_prime_titles-08-12-2022.csv \n",
      "\n",
      "Se ha guardado el archivo en el directorio: c:\\Users\\Jose Salas\\OneDrive\\Escritorio\\streaming_catalog_api\\data\\external\\disney_plus_titles\\2022-12\\disney_plus_titles-08-12-2022.csv \n",
      "\n",
      "Se ha guardado el archivo en el directorio: c:\\Users\\Jose Salas\\OneDrive\\Escritorio\\streaming_catalog_api\\data\\external\\hulu_titles\\2022-12\\hulu_titles-08-12-2022.csv \n",
      "\n",
      "Se ha guardado el archivo en el directorio: c:\\Users\\Jose Salas\\OneDrive\\Escritorio\\streaming_catalog_api\\data\\external\\netflix_titles\\2022-12\\netflix_titles-08-12-2022.json \n",
      "\n"
     ]
    }
   ],
   "source": [
    "get_data(category_list = category_list)"
   ]
  }
 ],
 "metadata": {
  "kernelspec": {
   "display_name": "data_science",
   "language": "python",
   "name": "python3"
  },
  "language_info": {
   "codemirror_mode": {
    "name": "ipython",
    "version": 3
   },
   "file_extension": ".py",
   "mimetype": "text/x-python",
   "name": "python",
   "nbconvert_exporter": "python",
   "pygments_lexer": "ipython3",
   "version": "3.10.8"
  },
  "orig_nbformat": 4,
  "vscode": {
   "interpreter": {
    "hash": "f3fbfe52244383f0f41d2f56f5e4d4c83754b326087b0347a57dd940b1f157af"
   }
  }
 },
 "nbformat": 4,
 "nbformat_minor": 2
}
